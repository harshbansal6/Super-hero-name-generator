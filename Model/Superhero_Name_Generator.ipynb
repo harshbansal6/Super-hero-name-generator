{
  "cells": [
    {
      "cell_type": "markdown",
      "metadata": {
        "id": "21XXWP7Fpt2L"
      },
      "source": [
        "# Superhero (and Supervillain) Name Generator\n",
        "\n",
        "---\n",
        "\n",
        "[Superhero Names Dataset](https://github.com/am1tyadav/superhero)"
      ]
    },
    {
      "cell_type": "markdown",
      "metadata": {
        "id": "H6P0NU5Cpt2R"
      },
      "source": [
        "## Task 2\n",
        "\n",
        "1. Import the data\n",
        "2. Create a tokenizer\n",
        "3. Char to index and Index to char dictionaries"
      ]
    },
    {
      "cell_type": "code",
      "execution_count": null,
      "metadata": {
        "colab": {
          "base_uri": "https://localhost:8080/"
        },
        "id": "srULhalZpt2M",
        "outputId": "6f7b1b3c-0e77-426d-d1c7-2ccabd711fc6"
      },
      "outputs": [
        {
          "output_type": "stream",
          "name": "stdout",
          "text": [
            "Cloning into 'superhero'...\n",
            "remote: Enumerating objects: 8, done.\u001b[K\n",
            "remote: Counting objects: 100% (8/8), done.\u001b[K\n",
            "remote: Compressing objects: 100% (7/7), done.\u001b[K\n",
            "remote: Total 8 (delta 0), reused 4 (delta 0), pack-reused 0\u001b[K\n",
            "Unpacking objects: 100% (8/8), done.\n"
          ]
        }
      ],
      "source": [
        "!git clone https://github.com/am1tyadav/superhero"
      ]
    },
    {
      "cell_type": "code",
      "execution_count": null,
      "metadata": {
        "colab": {
          "base_uri": "https://localhost:8080/",
          "height": 35
        },
        "id": "uq4CLmsLpt2P",
        "outputId": "0a8a58d4-c014-4082-cfd7-076a98b47e5e"
      },
      "outputs": [
        {
          "output_type": "execute_result",
          "data": {
            "text/plain": [
              "'jumpa\\t\\ndoctor fate\\t\\nstarlight\\t\\nisildur\\t\\nlasher\\t\\nvarvara\\t\\nthe target\\t\\naxel\\t\\nbattra\\t\\nchangeling\\t\\npyrrh'"
            ],
            "application/vnd.google.colaboratory.intrinsic+json": {
              "type": "string"
            }
          },
          "metadata": {},
          "execution_count": 2
        }
      ],
      "source": [
        "with open('superhero/superheroes.txt','r') as f:\n",
        "  data = f.read()\n",
        "      \n",
        "data[:100]"
      ]
    },
    {
      "cell_type": "code",
      "execution_count": null,
      "metadata": {
        "colab": {
          "base_uri": "https://localhost:8080/"
        },
        "id": "JqhtLuAHpt2R",
        "outputId": "b381e2e3-297c-4c8e-8c8f-9640ed08ff9c"
      },
      "outputs": [
        {
          "output_type": "stream",
          "name": "stdout",
          "text": [
            "2.8.2\n"
          ]
        }
      ],
      "source": [
        "import tensorflow as tf\n",
        "\n",
        "print(tf.__version__)"
      ]
    },
    {
      "cell_type": "code",
      "execution_count": null,
      "metadata": {
        "id": "95Lo1Yqzpt2T"
      },
      "outputs": [],
      "source": [
        "tokenizer = tf.keras.preprocessing.text.Tokenizer(\n",
        "    filters='!\"#$%&()*+,-./:;<=>?@[\\\\]^_`{|}~',\n",
        "    split='\\n',\n",
        ")"
      ]
    },
    {
      "cell_type": "code",
      "execution_count": null,
      "metadata": {
        "id": "qYfC4sj2pt2V"
      },
      "outputs": [],
      "source": [
        "tokenizer.fit_on_texts(data)"
      ]
    },
    {
      "cell_type": "code",
      "execution_count": null,
      "metadata": {
        "id": "EO4-dPM6pt2X",
        "colab": {
          "base_uri": "https://localhost:8080/"
        },
        "outputId": "25e362e6-ecf1-4fc7-eddb-4a2f654283c3"
      },
      "outputs": [
        {
          "output_type": "stream",
          "name": "stdout",
          "text": [
            "{1: '\\t', 2: 'a', 3: 'e', 4: 'r', 5: 'o', 6: 'n', 7: 'i', 8: ' ', 9: 't', 10: 's', 11: 'l', 12: 'm', 13: 'h', 14: 'd', 15: 'c', 16: 'u', 17: 'g', 18: 'k', 19: 'b', 20: 'p', 21: 'y', 22: 'w', 23: 'f', 24: 'v', 25: 'j', 26: 'z', 27: 'x', 28: 'q'}\n"
          ]
        }
      ],
      "source": [
        "char_to_index = tokenizer.word_index\n",
        "index_to_char = dict((v,k) for k, v in char_to_index.items())\n",
        "\n",
        "print(index_to_char)"
      ]
    },
    {
      "cell_type": "markdown",
      "metadata": {
        "id": "SMwtIw_Bpt2Z"
      },
      "source": [
        "## Task 3\n",
        "\n",
        "1. Converting between names and sequences"
      ]
    },
    {
      "cell_type": "code",
      "execution_count": null,
      "metadata": {
        "id": "N7iQLIXzpt2a",
        "colab": {
          "base_uri": "https://localhost:8080/"
        },
        "outputId": "708defdd-cf20-4bcd-e7c2-b5b42788c3a9"
      },
      "outputs": [
        {
          "output_type": "execute_result",
          "data": {
            "text/plain": [
              "['jumpa\\t',\n",
              " 'doctor fate\\t',\n",
              " 'starlight\\t',\n",
              " 'isildur\\t',\n",
              " 'lasher\\t',\n",
              " 'varvara\\t',\n",
              " 'the target\\t',\n",
              " 'axel\\t',\n",
              " 'battra\\t',\n",
              " 'changeling\\t']"
            ]
          },
          "metadata": {},
          "execution_count": 7
        }
      ],
      "source": [
        "names = data.splitlines()\n",
        "names[:10]"
      ]
    },
    {
      "cell_type": "code",
      "execution_count": null,
      "metadata": {
        "id": "n_-TTfqipt2c",
        "colab": {
          "base_uri": "https://localhost:8080/"
        },
        "outputId": "1e767b93-644e-4ce9-cb71-5f86763c692d"
      },
      "outputs": [
        {
          "output_type": "execute_result",
          "data": {
            "text/plain": [
              "[[25], [16], [12], [20], [2], [1]]"
            ]
          },
          "metadata": {},
          "execution_count": 9
        }
      ],
      "source": [
        "tokenizer.texts_to_sequences(names[0])\n"
      ]
    },
    {
      "cell_type": "code",
      "execution_count": null,
      "metadata": {
        "id": "P6IsKH1Upt2e"
      },
      "outputs": [],
      "source": [
        "def name_to_seq(name):\n",
        "  return [tokenizer.texts_to_sequences(c)[0][0] for c in name]"
      ]
    },
    {
      "cell_type": "code",
      "execution_count": null,
      "metadata": {
        "id": "TuLUiMP3pt2g",
        "colab": {
          "base_uri": "https://localhost:8080/"
        },
        "outputId": "0028220f-7f96-488b-a4a2-b41dd9931450"
      },
      "outputs": [
        {
          "output_type": "execute_result",
          "data": {
            "text/plain": [
              "[25, 16, 12, 20, 2, 1]"
            ]
          },
          "metadata": {},
          "execution_count": 12
        }
      ],
      "source": [
        "name_to_seq(names[0])"
      ]
    },
    {
      "cell_type": "code",
      "execution_count": null,
      "metadata": {
        "id": "yFUYhimKpt2h"
      },
      "outputs": [],
      "source": [
        "def seq_to_name(seq):\n",
        "  return ''.join([index_to_char[i] for i in seq if i != 0])"
      ]
    },
    {
      "cell_type": "code",
      "execution_count": null,
      "metadata": {
        "id": "ROhCqmhLpt2k",
        "colab": {
          "base_uri": "https://localhost:8080/",
          "height": 35
        },
        "outputId": "cbb01c9d-9966-4824-9fac-d5e3096d6437"
      },
      "outputs": [
        {
          "output_type": "execute_result",
          "data": {
            "text/plain": [
              "'jumpa\\t'"
            ],
            "application/vnd.google.colaboratory.intrinsic+json": {
              "type": "string"
            }
          },
          "metadata": {},
          "execution_count": 14
        }
      ],
      "source": [
        "seq_to_name(name_to_seq(names[0]))"
      ]
    },
    {
      "cell_type": "markdown",
      "metadata": {
        "id": "uCbAzsNjpt2m"
      },
      "source": [
        "## Task 4\n",
        "\n",
        "1. Creating sequences\n",
        "2. Padding all sequences"
      ]
    },
    {
      "cell_type": "code",
      "execution_count": null,
      "metadata": {
        "id": "zstNn-0dpt2m"
      },
      "outputs": [],
      "source": [
        "sequences = []\n",
        "\n",
        "for name in names:\n",
        "  seq = name_to_seq(name)\n",
        "  if len(seq) >=2:\n",
        "    sequences +=  [seq[:i] for i in range(2, len(seq) + 1)]"
      ]
    },
    {
      "cell_type": "code",
      "execution_count": null,
      "metadata": {
        "id": "BjRTMysvpt2o",
        "colab": {
          "base_uri": "https://localhost:8080/"
        },
        "outputId": "0ab7bb83-eee1-42ff-d33f-0d5f59387c63"
      },
      "outputs": [
        {
          "output_type": "execute_result",
          "data": {
            "text/plain": [
              "[[25, 16],\n",
              " [25, 16, 12],\n",
              " [25, 16, 12, 20],\n",
              " [25, 16, 12, 20, 2],\n",
              " [25, 16, 12, 20, 2, 1],\n",
              " [14, 5],\n",
              " [14, 5, 15],\n",
              " [14, 5, 15, 9],\n",
              " [14, 5, 15, 9, 5],\n",
              " [14, 5, 15, 9, 5, 4]]"
            ]
          },
          "metadata": {},
          "execution_count": 18
        }
      ],
      "source": [
        "sequences[:10]"
      ]
    },
    {
      "cell_type": "code",
      "execution_count": null,
      "metadata": {
        "id": "SR68pu2tpt2q",
        "colab": {
          "base_uri": "https://localhost:8080/"
        },
        "outputId": "fff03a19-baa1-437b-c7ef-99da6f18b421"
      },
      "outputs": [
        {
          "output_type": "stream",
          "name": "stdout",
          "text": [
            "33\n"
          ]
        }
      ],
      "source": [
        "max_len  = max([len(x) for x in sequences])\n",
        "print(max_len)"
      ]
    },
    {
      "cell_type": "code",
      "execution_count": null,
      "metadata": {
        "id": "h_1BtWO7pt2r",
        "colab": {
          "base_uri": "https://localhost:8080/"
        },
        "outputId": "daec3f5c-8fa6-47cc-cbea-bbee6bb2efe6"
      },
      "outputs": [
        {
          "output_type": "stream",
          "name": "stdout",
          "text": [
            "[ 0  0  0  0  0  0  0  0  0  0  0  0  0  0  0  0  0  0  0  0  0  0  0  0\n",
            "  0  0  0  0  0  0  0 25 16]\n"
          ]
        }
      ],
      "source": [
        "padded_sequence = tf.keras.preprocessing.sequence.pad_sequences(sequences, padding='pre',\n",
        "                                                                maxlen = max_len)\n",
        "print(padded_sequence[0])"
      ]
    },
    {
      "cell_type": "code",
      "execution_count": null,
      "metadata": {
        "id": "sPlrLRpSpt2t",
        "colab": {
          "base_uri": "https://localhost:8080/"
        },
        "outputId": "d5869940-3a7f-44be-a850-bdba0b506a40"
      },
      "outputs": [
        {
          "output_type": "execute_result",
          "data": {
            "text/plain": [
              "(88279, 33)"
            ]
          },
          "metadata": {},
          "execution_count": 22
        }
      ],
      "source": [
        "padded_sequence.shape"
      ]
    },
    {
      "cell_type": "markdown",
      "metadata": {
        "id": "jff-GpOhyKiD"
      },
      "source": [
        "## Task 5: Creating Training and Validation Sets\n",
        "\n",
        "1. Creating training and validation sets"
      ]
    },
    {
      "cell_type": "code",
      "execution_count": null,
      "metadata": {
        "id": "BE4BIeSnpt2v",
        "colab": {
          "base_uri": "https://localhost:8080/"
        },
        "outputId": "6c90e9f9-a480-40e1-efa3-97474b6b7344"
      },
      "outputs": [
        {
          "output_type": "stream",
          "name": "stdout",
          "text": [
            "(88279, 32) (88279,)\n"
          ]
        }
      ],
      "source": [
        "x , y = padded_sequence[:, :-1], padded_sequence[:,-1]\n",
        "print(x.shape, y.shape)"
      ]
    },
    {
      "cell_type": "code",
      "execution_count": null,
      "metadata": {
        "id": "jNDYiPvHyKiE",
        "colab": {
          "base_uri": "https://localhost:8080/"
        },
        "outputId": "14ef6e6b-6fcc-4c10-db64-42035733d583"
      },
      "outputs": [
        {
          "output_type": "stream",
          "name": "stdout",
          "text": [
            "(66209, 32) (66209,)\n",
            "(22070, 32) (22070,)\n"
          ]
        }
      ],
      "source": [
        "from sklearn.model_selection import train_test_split\n",
        "\n",
        "x_train, x_test, y_train, y_test = train_test_split(x, y)\n",
        "\n",
        "print(x_train.shape, y_train.shape)\n",
        "print(x_test.shape , y_test.shape)"
      ]
    },
    {
      "cell_type": "code",
      "execution_count": null,
      "metadata": {
        "id": "cgqRZtqnpt2x",
        "colab": {
          "base_uri": "https://localhost:8080/"
        },
        "outputId": "e0657021-7bdb-4bf3-b7c0-2a71a9a64a4d"
      },
      "outputs": [
        {
          "output_type": "stream",
          "name": "stdout",
          "text": [
            "29\n"
          ]
        }
      ],
      "source": [
        "num_chars = len(char_to_index.keys()) + 1\n",
        "print(num_chars)"
      ]
    },
    {
      "cell_type": "markdown",
      "metadata": {
        "id": "3o0CyTahyKiE"
      },
      "source": [
        "## Task 6: Creating the Model"
      ]
    },
    {
      "cell_type": "code",
      "execution_count": null,
      "metadata": {
        "id": "Lz5qefp_yKiF",
        "colab": {
          "base_uri": "https://localhost:8080/"
        },
        "outputId": "b8a732ff-1059-45b9-9071-5160a3ff99a4"
      },
      "outputs": [
        {
          "output_type": "stream",
          "name": "stdout",
          "text": [
            "Model: \"sequential\"\n",
            "_________________________________________________________________\n",
            " Layer (type)                Output Shape              Param #   \n",
            "=================================================================\n",
            " embedding_1 (Embedding)     (None, 32, 8)             232       \n",
            "                                                                 \n",
            " conv1d_1 (Conv1D)           (None, 32, 64)            2624      \n",
            "                                                                 \n",
            " max_pooling1d (MaxPooling1D  (None, 16, 64)           0         \n",
            " )                                                               \n",
            "                                                                 \n",
            " lstm (LSTM)                 (None, 32)                12416     \n",
            "                                                                 \n",
            " dense (Dense)               (None, 29)                957       \n",
            "                                                                 \n",
            "=================================================================\n",
            "Total params: 16,229\n",
            "Trainable params: 16,229\n",
            "Non-trainable params: 0\n",
            "_________________________________________________________________\n"
          ]
        }
      ],
      "source": [
        "from tensorflow.keras.models import Sequential\n",
        "from tensorflow.keras.layers import Embedding , Conv1D, MaxPool1D, LSTM\n",
        "from tensorflow.keras.layers import Bidirectional, Dense\n",
        "\n",
        "model = Sequential([ Embedding(num_chars , 8,input_length= max_len-1),\n",
        "                    Conv1D(64, 5, strides=1, activation='tanh',padding='causal'),\n",
        "                    MaxPool1D(2),\n",
        "                    LSTM(32),\n",
        "                    Dense(num_chars, activation = 'softmax')])\n",
        "\n",
        "\n",
        "model.compile( loss = 'sparse_categorical_crossentropy',\n",
        "              optimizer = 'adam',\n",
        "              metrics = ['accuracy'])\n",
        "\n",
        "\n",
        "model.summary()\n"
      ]
    },
    {
      "cell_type": "markdown",
      "metadata": {
        "id": "rdpB3twyyKiF"
      },
      "source": [
        "## Task 7: Training the Model"
      ]
    },
    {
      "cell_type": "code",
      "execution_count": null,
      "metadata": {
        "id": "j0Ssl4qupt22",
        "colab": {
          "base_uri": "https://localhost:8080/"
        },
        "outputId": "725b1ca1-6f8b-4440-fb6a-857a8cf6332b"
      },
      "outputs": [
        {
          "output_type": "stream",
          "name": "stdout",
          "text": [
            "Epoch 1/50\n",
            "2070/2070 - 25s - loss: 2.7467 - accuracy: 0.1882 - val_loss: 2.5893 - val_accuracy: 0.2254 - 25s/epoch - 12ms/step\n",
            "Epoch 2/50\n",
            "2070/2070 - 11s - loss: 2.5461 - accuracy: 0.2354 - val_loss: 2.5033 - val_accuracy: 0.2469 - 11s/epoch - 5ms/step\n",
            "Epoch 3/50\n",
            "2070/2070 - 11s - loss: 2.4790 - accuracy: 0.2520 - val_loss: 2.4535 - val_accuracy: 0.2605 - 11s/epoch - 5ms/step\n",
            "Epoch 4/50\n",
            "2070/2070 - 10s - loss: 2.4338 - accuracy: 0.2635 - val_loss: 2.4171 - val_accuracy: 0.2748 - 10s/epoch - 5ms/step\n",
            "Epoch 5/50\n",
            "2070/2070 - 12s - loss: 2.3957 - accuracy: 0.2730 - val_loss: 2.3849 - val_accuracy: 0.2829 - 12s/epoch - 6ms/step\n",
            "Epoch 6/50\n",
            "2070/2070 - 11s - loss: 2.3629 - accuracy: 0.2822 - val_loss: 2.3641 - val_accuracy: 0.2866 - 11s/epoch - 6ms/step\n",
            "Epoch 7/50\n",
            "2070/2070 - 11s - loss: 2.3325 - accuracy: 0.2910 - val_loss: 2.3404 - val_accuracy: 0.2906 - 11s/epoch - 5ms/step\n",
            "Epoch 8/50\n",
            "2070/2070 - 10s - loss: 2.3049 - accuracy: 0.2976 - val_loss: 2.3225 - val_accuracy: 0.2999 - 10s/epoch - 5ms/step\n",
            "Epoch 9/50\n",
            "2070/2070 - 11s - loss: 2.2804 - accuracy: 0.3081 - val_loss: 2.3053 - val_accuracy: 0.3046 - 11s/epoch - 5ms/step\n",
            "Epoch 10/50\n",
            "2070/2070 - 14s - loss: 2.2560 - accuracy: 0.3157 - val_loss: 2.2949 - val_accuracy: 0.3116 - 14s/epoch - 7ms/step\n",
            "Epoch 11/50\n",
            "2070/2070 - 10s - loss: 2.2351 - accuracy: 0.3210 - val_loss: 2.2816 - val_accuracy: 0.3144 - 10s/epoch - 5ms/step\n",
            "Epoch 12/50\n",
            "2070/2070 - 12s - loss: 2.2149 - accuracy: 0.3291 - val_loss: 2.2705 - val_accuracy: 0.3185 - 12s/epoch - 6ms/step\n",
            "Epoch 13/50\n",
            "2070/2070 - 13s - loss: 2.1967 - accuracy: 0.3346 - val_loss: 2.2616 - val_accuracy: 0.3222 - 13s/epoch - 6ms/step\n",
            "Epoch 14/50\n",
            "2070/2070 - 13s - loss: 2.1798 - accuracy: 0.3383 - val_loss: 2.2566 - val_accuracy: 0.3273 - 13s/epoch - 6ms/step\n",
            "Epoch 15/50\n",
            "2070/2070 - 14s - loss: 2.1640 - accuracy: 0.3458 - val_loss: 2.2440 - val_accuracy: 0.3339 - 14s/epoch - 7ms/step\n",
            "Epoch 16/50\n",
            "2070/2070 - 10s - loss: 2.1511 - accuracy: 0.3502 - val_loss: 2.2380 - val_accuracy: 0.3346 - 10s/epoch - 5ms/step\n",
            "Epoch 17/50\n",
            "2070/2070 - 11s - loss: 2.1389 - accuracy: 0.3542 - val_loss: 2.2343 - val_accuracy: 0.3368 - 11s/epoch - 5ms/step\n",
            "Epoch 18/50\n",
            "2070/2070 - 14s - loss: 2.1261 - accuracy: 0.3588 - val_loss: 2.2324 - val_accuracy: 0.3395 - 14s/epoch - 7ms/step\n",
            "Epoch 19/50\n",
            "2070/2070 - 20s - loss: 2.1151 - accuracy: 0.3623 - val_loss: 2.2220 - val_accuracy: 0.3422 - 20s/epoch - 9ms/step\n",
            "Epoch 20/50\n",
            "2070/2070 - 15s - loss: 2.1039 - accuracy: 0.3676 - val_loss: 2.2226 - val_accuracy: 0.3419 - 15s/epoch - 7ms/step\n",
            "Epoch 21/50\n",
            "2070/2070 - 14s - loss: 2.0943 - accuracy: 0.3709 - val_loss: 2.2226 - val_accuracy: 0.3444 - 14s/epoch - 7ms/step\n",
            "Epoch 22/50\n",
            "2070/2070 - 12s - loss: 2.0836 - accuracy: 0.3730 - val_loss: 2.2201 - val_accuracy: 0.3440 - 12s/epoch - 6ms/step\n",
            "Epoch 23/50\n",
            "2070/2070 - 12s - loss: 2.0752 - accuracy: 0.3770 - val_loss: 2.2138 - val_accuracy: 0.3492 - 12s/epoch - 6ms/step\n",
            "Epoch 24/50\n",
            "2070/2070 - 12s - loss: 2.0656 - accuracy: 0.3798 - val_loss: 2.2087 - val_accuracy: 0.3495 - 12s/epoch - 6ms/step\n",
            "Epoch 25/50\n",
            "2070/2070 - 12s - loss: 2.0591 - accuracy: 0.3814 - val_loss: 2.2106 - val_accuracy: 0.3490 - 12s/epoch - 6ms/step\n",
            "Epoch 26/50\n",
            "2070/2070 - 11s - loss: 2.0498 - accuracy: 0.3856 - val_loss: 2.2118 - val_accuracy: 0.3517 - 11s/epoch - 5ms/step\n",
            "Epoch 27/50\n",
            "2070/2070 - 11s - loss: 2.0443 - accuracy: 0.3857 - val_loss: 2.2078 - val_accuracy: 0.3489 - 11s/epoch - 6ms/step\n",
            "Epoch 28/50\n",
            "2070/2070 - 11s - loss: 2.0370 - accuracy: 0.3897 - val_loss: 2.2090 - val_accuracy: 0.3532 - 11s/epoch - 6ms/step\n",
            "Epoch 29/50\n",
            "2070/2070 - 10s - loss: 2.0318 - accuracy: 0.3916 - val_loss: 2.2063 - val_accuracy: 0.3529 - 10s/epoch - 5ms/step\n",
            "Epoch 30/50\n",
            "2070/2070 - 10s - loss: 2.0247 - accuracy: 0.3922 - val_loss: 2.2019 - val_accuracy: 0.3531 - 10s/epoch - 5ms/step\n",
            "Epoch 31/50\n",
            "2070/2070 - 11s - loss: 2.0183 - accuracy: 0.3961 - val_loss: 2.2046 - val_accuracy: 0.3565 - 11s/epoch - 5ms/step\n",
            "Epoch 32/50\n",
            "2070/2070 - 10s - loss: 2.0133 - accuracy: 0.3968 - val_loss: 2.2069 - val_accuracy: 0.3532 - 10s/epoch - 5ms/step\n",
            "Epoch 33/50\n",
            "2070/2070 - 11s - loss: 2.0081 - accuracy: 0.3992 - val_loss: 2.2046 - val_accuracy: 0.3511 - 11s/epoch - 5ms/step\n",
            "Epoch 34/50\n",
            "2070/2070 - 12s - loss: 2.0034 - accuracy: 0.4011 - val_loss: 2.2029 - val_accuracy: 0.3595 - 12s/epoch - 6ms/step\n",
            "Epoch 35/50\n",
            "2070/2070 - 13s - loss: 1.9977 - accuracy: 0.4019 - val_loss: 2.2046 - val_accuracy: 0.3590 - 13s/epoch - 6ms/step\n",
            "Epoch 36/50\n",
            "2070/2070 - 12s - loss: 1.9939 - accuracy: 0.4029 - val_loss: 2.1998 - val_accuracy: 0.3582 - 12s/epoch - 6ms/step\n",
            "Epoch 37/50\n",
            "2070/2070 - 13s - loss: 1.9885 - accuracy: 0.4042 - val_loss: 2.2045 - val_accuracy: 0.3578 - 13s/epoch - 6ms/step\n"
          ]
        }
      ],
      "source": [
        "h = model.fit(x_train, y_train,\n",
        "              validation_data= (x_test, y_test),\n",
        "              epochs =50, verbose =2,\n",
        "              callbacks= [tf.keras.callbacks.EarlyStopping(monitor = 'val_accuracy', patience = 3)])"
      ]
    },
    {
      "cell_type": "code",
      "source": [
        "import matplotlib.pyplot as plt\n",
        "\n",
        "epoch_ran = len(h.history['loss']) \n",
        "\n",
        "plt.plot(range(0 , epoch_ran), h.history['val_accuracy'], label='validation')\n",
        "plt.plot(range(0 , epoch_ran), h.history['accuracy'], label='training')\n",
        "plt.show()\n"
      ],
      "metadata": {
        "colab": {
          "base_uri": "https://localhost:8080/",
          "height": 265
        },
        "id": "OL_qs9DZG-d4",
        "outputId": "8ccb5756-db2f-4457-eab8-2e43e360762b"
      },
      "execution_count": null,
      "outputs": [
        {
          "output_type": "display_data",
          "data": {
            "text/plain": [
              "<Figure size 432x288 with 1 Axes>"
            ],
            "image/png": "[encoded data removed]"
          },
          "metadata": {
            "needs_background": "light"
          }
        }
      ]
    },
    {
      "cell_type": "markdown",
      "metadata": {
        "id": "chjeqflgyKiF"
      },
      "source": [
        "## Task 8: Generate Names!"
      ]
    },
    {
      "cell_type": "code",
      "execution_count": null,
      "metadata": {
        "id": "9f50aTRcpt24"
      },
      "outputs": [],
      "source": [
        "def generate_names(seed):\n",
        "  for i in range(0, 40):\n",
        "    seq = name_to_seq(seed)\n",
        "    padded = tf.keras.preprocessing.sequence.pad_sequences([seq], padding= 'pre',\n",
        "                                                           maxlen = max_len -1,\n",
        "                                                           truncating ='pre')\n",
        "    \n",
        "    pred = model.predict(padded)[0]\n",
        "    pred_char = index_to_char[tf.argmax(pred).numpy()]\n",
        "    seed += pred_char\n",
        "\n",
        "    if pred_char == '\\t':\n",
        "      break\n",
        "  print(seed)\n"
      ]
    },
    {
      "cell_type": "code",
      "execution_count": null,
      "metadata": {
        "id": "faQ0FInlpt26",
        "colab": {
          "base_uri": "https://localhost:8080/"
        },
        "outputId": "4b230293-f90e-438b-ef34-8ce1045cacd1"
      },
      "outputs": [
        {
          "output_type": "stream",
          "name": "stdout",
          "text": [
            "firen doom\t\n"
          ]
        }
      ],
      "source": [
        "generate_names('f')"
      ]
    },
    {
      "cell_type": "code",
      "source": [
        ""
      ],
      "metadata": {
        "id": "AyE5z3z-J0Ql"
      },
      "execution_count": null,
      "outputs": []
    }
  ],
  "metadata": {
    "accelerator": "GPU",
    "colab": {
      "collapsed_sections": [],
      "name": " Superhero Name Generator.ipynb",
      "provenance": []
    },
    "kernelspec": {
      "display_name": "Python 3",
      "language": "python",
      "name": "python3"
    },
    "language_info": {
      "codemirror_mode": {
        "name": "ipython",
        "version": 3
      },
      "file_extension": ".py",
      "mimetype": "text/x-python",
      "name": "python",
      "nbconvert_exporter": "python",
      "pygments_lexer": "ipython3",
      "version": "3.8.3"
    }
  },
  "nbformat": 4,
  "nbformat_minor": 0
}